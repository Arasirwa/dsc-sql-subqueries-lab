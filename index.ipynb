{
 "cells": [
  {
   "cell_type": "markdown",
   "metadata": {},
   "source": [
    "# SQL Subqueries - Lab\n",
    "\n",
    "## Introduction\n",
    "\n",
    "Now that you've seen how subqueries work, it's time to get some practice writing them! Not all of the queries will require subqueries, but all will be a bit more complex and require some thought and review about aggregates, grouping, ordering, filtering, joins and subqueries. Good luck!  \n",
    "\n",
    "## Objectives\n",
    "\n",
    "You will be able to:\n",
    "\n",
    "* Write subqueries to decompose complex queries\n",
    "\n",
    "## CRM Database ERD\n",
    "\n",
    "Once again, here's the schema for the CRM database you'll continue to practice with.\n",
    "\n",
    "<img src=\"https://curriculum-content.s3.amazonaws.com/data-science/images/Database-Schema.png\" width=\"600\">\n",
    "\n",
    "## Connect to the Database\n",
    "\n",
    "As usual, start by importing the necessary packages and connecting to the database `data.sqlite`."
   ]
  },
  {
   "cell_type": "code",
   "execution_count": 9,
   "metadata": {},
   "outputs": [],
   "source": [
    "# Your code here; import the necessary packages\n",
    "\n",
    "import pandas as pd\n",
    "import sqlite3\n"
   ]
  },
  {
   "cell_type": "code",
   "execution_count": 11,
   "metadata": {},
   "outputs": [],
   "source": [
    "# Your code here; create the connection\n",
    "conn = sqlite3.connect(\"data.sqlite\")"
   ]
  },
  {
   "cell_type": "markdown",
   "metadata": {},
   "source": [
    "## Write an Equivalent Query using a Subquery\n",
    "\n",
    "The following query works using a `JOIN`. Rewrite it so that it uses a subquery instead.\n",
    "\n",
    "```\n",
    "SELECT\n",
    "    customerNumber,\n",
    "    contactLastName,\n",
    "    contactFirstName\n",
    "FROM customers\n",
    "JOIN orders \n",
    "    USING(customerNumber)\n",
    "WHERE orderDate = '2003-01-31'\n",
    ";\n",
    "```"
   ]
  },
  {
   "cell_type": "code",
   "execution_count": 12,
   "metadata": {},
   "outputs": [
    {
     "data": {
      "application/vnd.microsoft.datawrangler.viewer.v0+json": {
       "columns": [
        {
         "name": "index",
         "rawType": "int64",
         "type": "integer"
        },
        {
         "name": "customerNumber",
         "rawType": "int64",
         "type": "integer"
        },
        {
         "name": "contactLastName",
         "rawType": "object",
         "type": "string"
        },
        {
         "name": "contactFirstName",
         "rawType": "object",
         "type": "string"
        }
       ],
       "ref": "2c9cbd52-9f3e-455e-8c8c-23fa18844af5",
       "rows": [
        [
         "0",
         "141",
         "Freyre",
         "Diego "
        ]
       ],
       "shape": {
        "columns": 3,
        "rows": 1
       }
      },
      "text/html": [
       "<div>\n",
       "<style scoped>\n",
       "    .dataframe tbody tr th:only-of-type {\n",
       "        vertical-align: middle;\n",
       "    }\n",
       "\n",
       "    .dataframe tbody tr th {\n",
       "        vertical-align: top;\n",
       "    }\n",
       "\n",
       "    .dataframe thead th {\n",
       "        text-align: right;\n",
       "    }\n",
       "</style>\n",
       "<table border=\"1\" class=\"dataframe\">\n",
       "  <thead>\n",
       "    <tr style=\"text-align: right;\">\n",
       "      <th></th>\n",
       "      <th>customerNumber</th>\n",
       "      <th>contactLastName</th>\n",
       "      <th>contactFirstName</th>\n",
       "    </tr>\n",
       "  </thead>\n",
       "  <tbody>\n",
       "    <tr>\n",
       "      <th>0</th>\n",
       "      <td>141</td>\n",
       "      <td>Freyre</td>\n",
       "      <td>Diego</td>\n",
       "    </tr>\n",
       "  </tbody>\n",
       "</table>\n",
       "</div>"
      ],
      "text/plain": [
       "   customerNumber contactLastName contactFirstName\n",
       "0             141          Freyre           Diego "
      ]
     },
     "execution_count": 12,
     "metadata": {},
     "output_type": "execute_result"
    }
   ],
   "source": [
    "# Your code here\n",
    "\n",
    "q = (\"\"\"\n",
    " SELECT \n",
    "    customerNumber,\n",
    "    contactLastName,\n",
    "    contactFirstName\n",
    "FROM customers\n",
    "WHERE customerNumber IN (\n",
    "    SELECT customerNumber\n",
    "    FROM orders\n",
    "    WHERE orderDate = '2003-01-31'\n",
    ")  \n",
    "\"\"\"\n",
    ")\n",
    "\n",
    "pd.read_sql(q,conn)"
   ]
  },
  {
   "cell_type": "markdown",
   "metadata": {},
   "source": [
    "## Select the Total Number of Orders for Each Product Name\n",
    "\n",
    "Sort the results by the total number of items sold for that product."
   ]
  },
  {
   "cell_type": "code",
   "execution_count": 13,
   "metadata": {},
   "outputs": [
    {
     "data": {
      "application/vnd.microsoft.datawrangler.viewer.v0+json": {
       "columns": [
        {
         "name": "index",
         "rawType": "int64",
         "type": "integer"
        },
        {
         "name": "Product Name",
         "rawType": "object",
         "type": "string"
        },
        {
         "name": "Total Orders",
         "rawType": "int64",
         "type": "integer"
        },
        {
         "name": "Total Quantity Sold",
         "rawType": "int64",
         "type": "integer"
        }
       ],
       "ref": "9d7d4e6a-b7c4-43c4-a6a9-4d5e36ff2564",
       "rows": [
        [
         "0",
         "1992 Ferrari 360 Spider red",
         "53",
         "1808"
        ],
        [
         "1",
         "1937 Lincoln Berline",
         "28",
         "1111"
        ],
        [
         "2",
         "American Airlines: MD-11S",
         "28",
         "1085"
        ],
        [
         "3",
         "1941 Chevrolet Special Deluxe Cabriolet",
         "28",
         "1076"
        ],
        [
         "4",
         "1930 Buick Marquette Phaeton",
         "28",
         "1074"
        ],
        [
         "5",
         "1940s Ford truck",
         "28",
         "1061"
        ],
        [
         "6",
         "1969 Harley Davidson Ultimate Chopper",
         "28",
         "1057"
        ],
        [
         "7",
         "1957 Chevy Pickup",
         "28",
         "1056"
        ],
        [
         "8",
         "1964 Mercedes Tour Bus",
         "28",
         "1053"
        ],
        [
         "9",
         "1956 Porsche 356A Coupe",
         "27",
         "1052"
        ],
        [
         "10",
         "Corsair F4U ( Bird Cage)",
         "28",
         "1051"
        ],
        [
         "11",
         "F/A 18 Hornet 1/72",
         "28",
         "1047"
        ],
        [
         "12",
         "1980s Black Hawk Helicopter",
         "28",
         "1040"
        ],
        [
         "13",
         "1913 Ford Model T Speedster",
         "28",
         "1038"
        ],
        [
         "14",
         "1997 BMW R 1100 S",
         "28",
         "1033"
        ],
        [
         "15",
         "1972 Alfa Romeo GTA",
         "28",
         "1030"
        ],
        [
         "16",
         "1962 Volkswagen Microbus",
         "28",
         "1029"
        ],
        [
         "17",
         "2002 Suzuki XREO",
         "28",
         "1028"
        ],
        [
         "18",
         "The USS Constitution Ship",
         "27",
         "1020"
        ],
        [
         "19",
         "2001 Ferrari Enzo",
         "27",
         "1019"
        ],
        [
         "20",
         "1960 BSA Gold Star DBD34",
         "28",
         "1015"
        ],
        [
         "21",
         "1997 BMW F650 ST",
         "28",
         "1014"
        ],
        [
         "22",
         "1957 Corvette Convertible",
         "27",
         "1013"
        ],
        [
         "23",
         "18th century schooner",
         "27",
         "1011"
        ],
        [
         "24",
         "1900s Vintage Tri-Plane",
         "28",
         "1009"
        ],
        [
         "25",
         "1996 Moto Guzzi 1100i",
         "28",
         "999"
        ],
        [
         "26",
         "1940 Ford Pickup Truck",
         "28",
         "999"
        ],
        [
         "27",
         "1926 Ford Fire Engine",
         "28",
         "998"
        ],
        [
         "28",
         "1982 Camaro Z28",
         "28",
         "997"
        ],
        [
         "29",
         "1939 Cadillac Limousine",
         "28",
         "995"
        ],
        [
         "30",
         "2002 Yamaha YZR M1",
         "27",
         "992"
        ],
        [
         "31",
         "1969 Dodge Charger",
         "27",
         "992"
        ],
        [
         "32",
         "1917 Maxwell Touring Car",
         "28",
         "992"
        ],
        [
         "33",
         "1912 Ford Model T Delivery Wagon",
         "27",
         "991"
        ],
        [
         "34",
         "1904 Buick Runabout",
         "27",
         "990"
        ],
        [
         "35",
         "1996 Peterbilt 379 Stake Bed with Outrigger",
         "28",
         "988"
        ],
        [
         "36",
         "1998 Chrysler Plymouth Prowler",
         "28",
         "986"
        ],
        [
         "37",
         "2003 Harley-Davidson Eagle Drag Bike",
         "28",
         "985"
        ],
        [
         "38",
         "1934 Ford V8 Coupe",
         "28",
         "985"
        ],
        [
         "39",
         "America West Airlines B757-200",
         "28",
         "984"
        ],
        [
         "40",
         "1958 Chevy Corvette Limited Edition",
         "28",
         "983"
        ],
        [
         "41",
         "1936 Chrysler Airflow",
         "28",
         "983"
        ],
        [
         "42",
         "Diamond T620 Semi-Skirted Tanker",
         "28",
         "979"
        ],
        [
         "43",
         "1970 Dodge Coronet",
         "28",
         "976"
        ],
        [
         "44",
         "1969 Dodge Super Bee",
         "27",
         "974"
        ],
        [
         "45",
         "ATA: B757-300",
         "28",
         "973"
        ],
        [
         "46",
         "1958 Setra Bus",
         "28",
         "972"
        ],
        [
         "47",
         "1948 Porsche 356-A Roadster",
         "27",
         "972"
        ],
        [
         "48",
         "1928 Ford Phaeton Deluxe",
         "28",
         "972"
        ],
        [
         "49",
         "1928 British Royal Navy Airplane",
         "28",
         "972"
        ]
       ],
       "shape": {
        "columns": 3,
        "rows": 109
       }
      },
      "text/html": [
       "<div>\n",
       "<style scoped>\n",
       "    .dataframe tbody tr th:only-of-type {\n",
       "        vertical-align: middle;\n",
       "    }\n",
       "\n",
       "    .dataframe tbody tr th {\n",
       "        vertical-align: top;\n",
       "    }\n",
       "\n",
       "    .dataframe thead th {\n",
       "        text-align: right;\n",
       "    }\n",
       "</style>\n",
       "<table border=\"1\" class=\"dataframe\">\n",
       "  <thead>\n",
       "    <tr style=\"text-align: right;\">\n",
       "      <th></th>\n",
       "      <th>Product Name</th>\n",
       "      <th>Total Orders</th>\n",
       "      <th>Total Quantity Sold</th>\n",
       "    </tr>\n",
       "  </thead>\n",
       "  <tbody>\n",
       "    <tr>\n",
       "      <th>0</th>\n",
       "      <td>1992 Ferrari 360 Spider red</td>\n",
       "      <td>53</td>\n",
       "      <td>1808</td>\n",
       "    </tr>\n",
       "    <tr>\n",
       "      <th>1</th>\n",
       "      <td>1937 Lincoln Berline</td>\n",
       "      <td>28</td>\n",
       "      <td>1111</td>\n",
       "    </tr>\n",
       "    <tr>\n",
       "      <th>2</th>\n",
       "      <td>American Airlines: MD-11S</td>\n",
       "      <td>28</td>\n",
       "      <td>1085</td>\n",
       "    </tr>\n",
       "    <tr>\n",
       "      <th>3</th>\n",
       "      <td>1941 Chevrolet Special Deluxe Cabriolet</td>\n",
       "      <td>28</td>\n",
       "      <td>1076</td>\n",
       "    </tr>\n",
       "    <tr>\n",
       "      <th>4</th>\n",
       "      <td>1930 Buick Marquette Phaeton</td>\n",
       "      <td>28</td>\n",
       "      <td>1074</td>\n",
       "    </tr>\n",
       "    <tr>\n",
       "      <th>...</th>\n",
       "      <td>...</td>\n",
       "      <td>...</td>\n",
       "      <td>...</td>\n",
       "    </tr>\n",
       "    <tr>\n",
       "      <th>104</th>\n",
       "      <td>1999 Indy 500 Monte Carlo SS</td>\n",
       "      <td>25</td>\n",
       "      <td>855</td>\n",
       "    </tr>\n",
       "    <tr>\n",
       "      <th>105</th>\n",
       "      <td>1911 Ford Town Car</td>\n",
       "      <td>25</td>\n",
       "      <td>832</td>\n",
       "    </tr>\n",
       "    <tr>\n",
       "      <th>106</th>\n",
       "      <td>1936 Mercedes Benz 500k Roadster</td>\n",
       "      <td>25</td>\n",
       "      <td>824</td>\n",
       "    </tr>\n",
       "    <tr>\n",
       "      <th>107</th>\n",
       "      <td>1970 Chevy Chevelle SS 454</td>\n",
       "      <td>25</td>\n",
       "      <td>803</td>\n",
       "    </tr>\n",
       "    <tr>\n",
       "      <th>108</th>\n",
       "      <td>1957 Ford Thunderbird</td>\n",
       "      <td>24</td>\n",
       "      <td>767</td>\n",
       "    </tr>\n",
       "  </tbody>\n",
       "</table>\n",
       "<p>109 rows × 3 columns</p>\n",
       "</div>"
      ],
      "text/plain": [
       "                                Product Name  Total Orders  \\\n",
       "0                1992 Ferrari 360 Spider red            53   \n",
       "1                       1937 Lincoln Berline            28   \n",
       "2                  American Airlines: MD-11S            28   \n",
       "3    1941 Chevrolet Special Deluxe Cabriolet            28   \n",
       "4               1930 Buick Marquette Phaeton            28   \n",
       "..                                       ...           ...   \n",
       "104             1999 Indy 500 Monte Carlo SS            25   \n",
       "105                       1911 Ford Town Car            25   \n",
       "106         1936 Mercedes Benz 500k Roadster            25   \n",
       "107               1970 Chevy Chevelle SS 454            25   \n",
       "108                    1957 Ford Thunderbird            24   \n",
       "\n",
       "     Total Quantity Sold  \n",
       "0                   1808  \n",
       "1                   1111  \n",
       "2                   1085  \n",
       "3                   1076  \n",
       "4                   1074  \n",
       "..                   ...  \n",
       "104                  855  \n",
       "105                  832  \n",
       "106                  824  \n",
       "107                  803  \n",
       "108                  767  \n",
       "\n",
       "[109 rows x 3 columns]"
      ]
     },
     "execution_count": 13,
     "metadata": {},
     "output_type": "execute_result"
    }
   ],
   "source": [
    "# Your code here\n",
    "\n",
    "q = (\"\"\"\n",
    "SELECT \n",
    "    p.productName AS \"Product Name\",\n",
    "    COUNT(DISTINCT od.orderNumber) AS \"Total Orders\",\n",
    "    SUM(od.quantityOrdered) AS \"Total Quantity Sold\"\n",
    "FROM orderdetails od\n",
    "JOIN products p ON od.productCode = p.productCode\n",
    "GROUP BY p.productName\n",
    "ORDER BY \"Total Quantity Sold\" DESC;\n",
    "\"\"\")\n",
    "pd.read_sql(q,conn)"
   ]
  },
  {
   "cell_type": "markdown",
   "metadata": {},
   "source": [
    "## Select the Product Name and the  Total Number of People Who Have Ordered Each Product\n",
    "\n",
    "Sort the results in descending order."
   ]
  },
  {
   "cell_type": "markdown",
   "metadata": {},
   "source": [
    "### A quick note on the SQL  `SELECT DISTINCT` statement:"
   ]
  },
  {
   "cell_type": "markdown",
   "metadata": {},
   "source": [
    "The `SELECT DISTINCT` statement is used to return only distinct values in the specified column. In other words, it removes the duplicate values in the column from the result set.\n",
    "\n",
    "Inside a table, a column often contains many duplicate values; and sometimes you only want to list the unique values. If you apply the `DISTINCT` clause to a column that has `NULL`, the `DISTINCT` clause will keep only one NULL and eliminates the other. In other words, the DISTINCT clause treats all `NULL` “values” as the same value."
   ]
  },
  {
   "cell_type": "code",
   "execution_count": 20,
   "metadata": {},
   "outputs": [
    {
     "data": {
      "application/vnd.microsoft.datawrangler.viewer.v0+json": {
       "columns": [
        {
         "name": "index",
         "rawType": "int64",
         "type": "integer"
        },
        {
         "name": "Product Code",
         "rawType": "object",
         "type": "string"
        },
        {
         "name": "Product Name",
         "rawType": "object",
         "type": "string"
        },
        {
         "name": "Customers Purchased",
         "rawType": "int64",
         "type": "integer"
        }
       ],
       "ref": "b6415c12-6ddc-4ef3-a716-661be957f13b",
       "rows": [
        [
         "0",
         "S18_3232",
         "1992 Ferrari 360 Spider red",
         "40"
        ],
        [
         "1",
         "S72_1253",
         "Boeing X-32A JSF",
         "27"
        ],
        [
         "2",
         "S10_4757",
         "1972 Alfa Romeo GTA",
         "27"
        ],
        [
         "3",
         "S10_1949",
         "1952 Alpine Renault 1300",
         "27"
        ],
        [
         "4",
         "S18_2957",
         "1934 Ford V8 Coupe",
         "27"
        ],
        [
         "5",
         "S700_2047",
         "HMS Bounty",
         "26"
        ],
        [
         "6",
         "S24_3949",
         "Corsair F4U ( Bird Cage)",
         "26"
        ],
        [
         "7",
         "S700_4002",
         "American Airlines: MD-11S",
         "26"
        ],
        [
         "8",
         "S18_3029",
         "1999 Yamaha Speed Boat",
         "26"
        ],
        [
         "9",
         "S10_2016",
         "1996 Moto Guzzi 1100i",
         "26"
        ],
        [
         "10",
         "S18_1984",
         "1995 Honda Civic",
         "26"
        ],
        [
         "11",
         "S18_1662",
         "1980s Black Hawk Helicopter",
         "26"
        ],
        [
         "12",
         "S10_1678",
         "1969 Harley Davidson Ultimate Chopper",
         "26"
        ],
        [
         "13",
         "S18_3856",
         "1941 Chevrolet Special Deluxe Cabriolet",
         "26"
        ],
        [
         "14",
         "S24_3816",
         "1940 Ford Delivery Sedan",
         "26"
        ],
        [
         "15",
         "S24_3420",
         "1937 Horch 930V Limousine",
         "26"
        ],
        [
         "16",
         "S18_2949",
         "1913 Ford Model T Speedster",
         "26"
        ],
        [
         "17",
         "S24_2841",
         "1900s Vintage Bi-Plane",
         "26"
        ],
        [
         "18",
         "S18_3136",
         "18th Century Vintage Horse Carriage",
         "26"
        ],
        [
         "19",
         "S700_2466",
         "America West Airlines B757-200",
         "25"
        ],
        [
         "20",
         "S700_2834",
         "ATA: B757-300",
         "25"
        ],
        [
         "21",
         "S10_4698",
         "2003 Harley-Davidson Eagle Drag Bike",
         "25"
        ],
        [
         "22",
         "S12_2823",
         "2002 Suzuki XREO",
         "25"
        ],
        [
         "23",
         "S24_1578",
         "1997 BMW R 1100 S",
         "25"
        ],
        [
         "24",
         "S18_1129",
         "1993 Mazda RX-7",
         "25"
        ],
        [
         "25",
         "S10_4962",
         "1962 LanciaA Delta 16V",
         "25"
        ],
        [
         "26",
         "S24_2000",
         "1960 BSA Gold Star DBD34",
         "25"
        ],
        [
         "27",
         "S18_1889",
         "1948 Porsche 356-A Roadster",
         "25"
        ],
        [
         "28",
         "S18_4600",
         "1940s Ford truck",
         "25"
        ],
        [
         "29",
         "S18_1097",
         "1940 Ford Pickup Truck",
         "25"
        ],
        [
         "30",
         "S18_1342",
         "1937 Lincoln Berline",
         "25"
        ],
        [
         "31",
         "S18_1367",
         "1936 Mercedes-Benz 500K Special Roadster",
         "25"
        ],
        [
         "32",
         "S18_2625",
         "1936 Harley Davidson El Knucklehead",
         "25"
        ],
        [
         "33",
         "S24_3151",
         "1912 Ford Model T Delivery Wagon",
         "25"
        ],
        [
         "34",
         "S700_3962",
         "The Queen Mary",
         "24"
        ],
        [
         "35",
         "S72_3212",
         "Pont Yacht",
         "24"
        ],
        [
         "36",
         "S18_2581",
         "P-51-D Mustang",
         "24"
        ],
        [
         "37",
         "S700_3167",
         "F/A 18 Hornet 1/72",
         "24"
        ],
        [
         "38",
         "S50_4713",
         "2002 Yamaha YZR M1",
         "24"
        ],
        [
         "39",
         "S32_1374",
         "1997 BMW F650 ST",
         "24"
        ],
        [
         "40",
         "S12_4675",
         "1969 Dodge Charger",
         "24"
        ],
        [
         "41",
         "S24_1937",
         "1939 Chevrolet Deluxe Coupe",
         "24"
        ],
        [
         "42",
         "S24_4258",
         "1936 Chrysler Airflow",
         "24"
        ],
        [
         "43",
         "S18_2325",
         "1932 Model A Ford J-Coupe",
         "24"
        ],
        [
         "44",
         "S18_3320",
         "1917 Maxwell Touring Car",
         "24"
        ],
        [
         "45",
         "S18_1749",
         "1917 Grand Touring Sedan",
         "24"
        ],
        [
         "46",
         "S24_2011",
         "18th century schooner",
         "24"
        ],
        [
         "47",
         "S700_2610",
         "The USS Constitution Ship",
         "23"
        ],
        [
         "48",
         "S700_1138",
         "The Schooner Bluenose",
         "23"
        ],
        [
         "49",
         "S700_1691",
         "American Airlines: B767-300",
         "23"
        ]
       ],
       "shape": {
        "columns": 3,
        "rows": 109
       }
      },
      "text/html": [
       "<div>\n",
       "<style scoped>\n",
       "    .dataframe tbody tr th:only-of-type {\n",
       "        vertical-align: middle;\n",
       "    }\n",
       "\n",
       "    .dataframe tbody tr th {\n",
       "        vertical-align: top;\n",
       "    }\n",
       "\n",
       "    .dataframe thead th {\n",
       "        text-align: right;\n",
       "    }\n",
       "</style>\n",
       "<table border=\"1\" class=\"dataframe\">\n",
       "  <thead>\n",
       "    <tr style=\"text-align: right;\">\n",
       "      <th></th>\n",
       "      <th>Product Code</th>\n",
       "      <th>Product Name</th>\n",
       "      <th>Customers Purchased</th>\n",
       "    </tr>\n",
       "  </thead>\n",
       "  <tbody>\n",
       "    <tr>\n",
       "      <th>0</th>\n",
       "      <td>S18_3232</td>\n",
       "      <td>1992 Ferrari 360 Spider red</td>\n",
       "      <td>40</td>\n",
       "    </tr>\n",
       "    <tr>\n",
       "      <th>1</th>\n",
       "      <td>S72_1253</td>\n",
       "      <td>Boeing X-32A JSF</td>\n",
       "      <td>27</td>\n",
       "    </tr>\n",
       "    <tr>\n",
       "      <th>2</th>\n",
       "      <td>S10_4757</td>\n",
       "      <td>1972 Alfa Romeo GTA</td>\n",
       "      <td>27</td>\n",
       "    </tr>\n",
       "    <tr>\n",
       "      <th>3</th>\n",
       "      <td>S10_1949</td>\n",
       "      <td>1952 Alpine Renault 1300</td>\n",
       "      <td>27</td>\n",
       "    </tr>\n",
       "    <tr>\n",
       "      <th>4</th>\n",
       "      <td>S18_2957</td>\n",
       "      <td>1934 Ford V8 Coupe</td>\n",
       "      <td>27</td>\n",
       "    </tr>\n",
       "    <tr>\n",
       "      <th>...</th>\n",
       "      <td>...</td>\n",
       "      <td>...</td>\n",
       "      <td>...</td>\n",
       "    </tr>\n",
       "    <tr>\n",
       "      <th>104</th>\n",
       "      <td>S24_2840</td>\n",
       "      <td>1958 Chevy Corvette Limited Edition</td>\n",
       "      <td>19</td>\n",
       "    </tr>\n",
       "    <tr>\n",
       "      <th>105</th>\n",
       "      <td>S24_3432</td>\n",
       "      <td>2002 Chevy Corvette</td>\n",
       "      <td>18</td>\n",
       "    </tr>\n",
       "    <tr>\n",
       "      <th>106</th>\n",
       "      <td>S24_3191</td>\n",
       "      <td>1969 Chevrolet Camaro Z28</td>\n",
       "      <td>18</td>\n",
       "    </tr>\n",
       "    <tr>\n",
       "      <th>107</th>\n",
       "      <td>S24_2887</td>\n",
       "      <td>1952 Citroen-15CV</td>\n",
       "      <td>18</td>\n",
       "    </tr>\n",
       "    <tr>\n",
       "      <th>108</th>\n",
       "      <td>S24_2766</td>\n",
       "      <td>1949 Jaguar XK 120</td>\n",
       "      <td>18</td>\n",
       "    </tr>\n",
       "  </tbody>\n",
       "</table>\n",
       "<p>109 rows × 3 columns</p>\n",
       "</div>"
      ],
      "text/plain": [
       "    Product Code                         Product Name  Customers Purchased\n",
       "0       S18_3232          1992 Ferrari 360 Spider red                   40\n",
       "1       S72_1253                     Boeing X-32A JSF                   27\n",
       "2       S10_4757                  1972 Alfa Romeo GTA                   27\n",
       "3       S10_1949             1952 Alpine Renault 1300                   27\n",
       "4       S18_2957                   1934 Ford V8 Coupe                   27\n",
       "..           ...                                  ...                  ...\n",
       "104     S24_2840  1958 Chevy Corvette Limited Edition                   19\n",
       "105     S24_3432                  2002 Chevy Corvette                   18\n",
       "106     S24_3191            1969 Chevrolet Camaro Z28                   18\n",
       "107     S24_2887                    1952 Citroen-15CV                   18\n",
       "108     S24_2766                   1949 Jaguar XK 120                   18\n",
       "\n",
       "[109 rows x 3 columns]"
      ]
     },
     "execution_count": 20,
     "metadata": {},
     "output_type": "execute_result"
    }
   ],
   "source": [
    "# Your code here\n",
    "# Hint: because one of the tables we'll be joining has duplicate customer numbers, you should use DISTINCT\n",
    "\"\"\"\n",
    "products --> orderdetails  ---> orders ---> customers\n",
    "\n",
    "Select the Product Name and the  Total Number of People Who Have Ordered Each Product\n",
    "Sort the results in descending order.\n",
    "\"\"\"\n",
    "\n",
    "q = (\"\"\"\n",
    "SELECT \n",
    "    products.productCode AS \"Product Code\",\n",
    "    products.productName AS \"Product Name\",\n",
    "    COUNT(DISTINCT customers.customerNumber) AS \"Customers Purchased\"\n",
    "FROM products\n",
    "JOIN orderdetails\n",
    "    ON products.productCode = orderdetails.productCode\n",
    "JOIN orders\n",
    "    ON orderdetails.orderNumber = orders.orderNumber\n",
    "JOIN customers\n",
    "    ON orders.customerNumber = customers.customerNumber\n",
    "GROUP BY products.productName\n",
    "ORDER BY \"Customers Purchased\" DESC;\n",
    "\"\"\") \n",
    "\n",
    "pd.read_sql(q,conn)"
   ]
  },
  {
   "cell_type": "code",
   "execution_count": 22,
   "metadata": {},
   "outputs": [
    {
     "name": "stdout",
     "output_type": "stream",
     "text": [
      "Index(['productCode', 'productName', 'productLine', 'productScale',\n",
      "       'productVendor', 'productDescription', 'quantityInStock', 'buyPrice',\n",
      "       'MSRP'],\n",
      "      dtype='object')\n",
      "Index(['orderNumber', 'productCode', 'quantityOrdered', 'priceEach',\n",
      "       'orderLineNumber'],\n",
      "      dtype='object')\n",
      "Index(['orderNumber', 'orderDate', 'requiredDate', 'shippedDate', 'status',\n",
      "       'comments', 'customerNumber'],\n",
      "      dtype='object')\n",
      "Index(['customerNumber', 'customerName', 'contactLastName', 'contactFirstName',\n",
      "       'phone', 'addressLine1', 'addressLine2', 'city', 'state', 'postalCode',\n",
      "       'country', 'salesRepEmployeeNumber', 'creditLimit'],\n",
      "      dtype='object')\n"
     ]
    }
   ],
   "source": [
    "q_orderdetails = (\"\"\"\n",
    "SELECT * \n",
    "FROM orderdetails\n",
    "\"\"\")\n",
    "\n",
    "q_orders = (\"\"\"\n",
    "SELECT * \n",
    "FROM orders\n",
    "\"\"\")\n",
    "\n",
    "q_products = (\"\"\"\n",
    "SELECT * \n",
    "FROM products\n",
    "\"\"\")\n",
    "\n",
    "q_customers = (\"\"\"\n",
    "SELECT * \n",
    "FROM customers             \n",
    "\"\"\")\n",
    "print(pd.read_sql(q_products, conn).columns)\n",
    "print(pd.read_sql(q_orderdetails, conn).columns)\n",
    "print(pd.read_sql(q_orders, conn).columns)\n",
    "print(pd.read_sql(q_customers, conn).columns)"
   ]
  },
  {
   "cell_type": "markdown",
   "metadata": {},
   "source": [
    "## Select the Employee Number, First Name, Last Name, City (of the office), and Office Code of the Employees Who Sold Products That Have Been Ordered by Fewer Than 20 people.\n",
    "\n",
    "This problem is a bit tougher. To start, think about how you might break the problem up. Be sure that your results only list each employee once."
   ]
  },
  {
   "cell_type": "code",
   "execution_count": null,
   "metadata": {},
   "outputs": [],
   "source": [
    "# Your code here\n",
    "q = (\"\"\"\n",
    "SELECT DISTINCT\n",
    "    employees.employeeNumber,\n",
    "    employees.firstName,\n",
    "    employees.lastName,\n",
    "    offices.city,\n",
    "    offices.officeCode\n",
    "FROM employees\n",
    "JOIN customers\n",
    "    ON employees.employeeNumber = customers.salesRepEmployeeNumber\n",
    "JOIN orders\n",
    "    ON customers.customerNumber = orders.customerNumber\n",
    "JOIN orderdetails\n",
    "    ON orders.orderNumber = orderdetails.orderNumber\n",
    "JOIN products\n",
    "    ON orderdetails.productCode = products.productCode\n",
    "JOIN offices\n",
    "    ON employees.officeCode = offices.officeCode\n",
    "WHERE products.productCode IN (\n",
    "    SELECT \n",
    "        products.productCode\n",
    "    FROM products\n",
    "    JOIN orderdetails ON products.productCode = orderdetails.productCode\n",
    "    JOIN orders ON orderdetails.orderNumber = orders.orderNumber\n",
    "    JOIN customers ON orders.customerNumber = customers.customerNumber\n",
    "    GROUP BY products.productCode\n",
    "    HAVING COUNT(DISTINCT customers.customerNumber) < 20\n",
    ")\n",
    "\n",
    "\"\"\")\n",
    "\n",
    "pd.read_sql(q, conn)"
   ]
  },
  {
   "cell_type": "markdown",
   "metadata": {},
   "source": [
    "## Select the Employee Number, First Name, Last Name, and Number of Customers for Employees Whose Customers Have an Average Credit Limit Over 15K"
   ]
  },
  {
   "cell_type": "code",
   "execution_count": 36,
   "metadata": {},
   "outputs": [
    {
     "data": {
      "application/vnd.microsoft.datawrangler.viewer.v0+json": {
       "columns": [
        {
         "name": "index",
         "rawType": "int64",
         "type": "integer"
        },
        {
         "name": "employeeNumber",
         "rawType": "int64",
         "type": "integer"
        },
        {
         "name": "firstName",
         "rawType": "object",
         "type": "string"
        },
        {
         "name": "lastName",
         "rawType": "object",
         "type": "string"
        },
        {
         "name": "COUNT(DISTINCT customers.customerNumber)",
         "rawType": "int64",
         "type": "integer"
        }
       ],
       "ref": "8b9a3c54-0470-4cd7-ab93-94c54f134184",
       "rows": [
        [
         "0",
         "1165",
         "Leslie",
         "Jennings",
         "6"
        ],
        [
         "1",
         "1166",
         "Leslie",
         "Thompson",
         "6"
        ],
        [
         "2",
         "1188",
         "Julie",
         "Firrelli",
         "6"
        ],
        [
         "3",
         "1216",
         "Steve",
         "Patterson",
         "6"
        ],
        [
         "4",
         "1286",
         "Foon Yue",
         "Tseng",
         "7"
        ],
        [
         "5",
         "1323",
         "George",
         "Vanauf",
         "8"
        ],
        [
         "6",
         "1337",
         "Loui",
         "Bondur",
         "6"
        ],
        [
         "7",
         "1370",
         "Gerard",
         "Hernandez",
         "7"
        ],
        [
         "8",
         "1401",
         "Pamela",
         "Castillo",
         "10"
        ],
        [
         "9",
         "1501",
         "Larry",
         "Bott",
         "8"
        ],
        [
         "10",
         "1504",
         "Barry",
         "Jones",
         "9"
        ],
        [
         "11",
         "1611",
         "Andy",
         "Fixter",
         "5"
        ],
        [
         "12",
         "1612",
         "Peter",
         "Marsh",
         "5"
        ],
        [
         "13",
         "1621",
         "Mami",
         "Nishi",
         "5"
        ],
        [
         "14",
         "1702",
         "Martin",
         "Gerard",
         "6"
        ]
       ],
       "shape": {
        "columns": 4,
        "rows": 15
       }
      },
      "text/html": [
       "<div>\n",
       "<style scoped>\n",
       "    .dataframe tbody tr th:only-of-type {\n",
       "        vertical-align: middle;\n",
       "    }\n",
       "\n",
       "    .dataframe tbody tr th {\n",
       "        vertical-align: top;\n",
       "    }\n",
       "\n",
       "    .dataframe thead th {\n",
       "        text-align: right;\n",
       "    }\n",
       "</style>\n",
       "<table border=\"1\" class=\"dataframe\">\n",
       "  <thead>\n",
       "    <tr style=\"text-align: right;\">\n",
       "      <th></th>\n",
       "      <th>employeeNumber</th>\n",
       "      <th>firstName</th>\n",
       "      <th>lastName</th>\n",
       "      <th>COUNT(DISTINCT customers.customerNumber)</th>\n",
       "    </tr>\n",
       "  </thead>\n",
       "  <tbody>\n",
       "    <tr>\n",
       "      <th>0</th>\n",
       "      <td>1165</td>\n",
       "      <td>Leslie</td>\n",
       "      <td>Jennings</td>\n",
       "      <td>6</td>\n",
       "    </tr>\n",
       "    <tr>\n",
       "      <th>1</th>\n",
       "      <td>1166</td>\n",
       "      <td>Leslie</td>\n",
       "      <td>Thompson</td>\n",
       "      <td>6</td>\n",
       "    </tr>\n",
       "    <tr>\n",
       "      <th>2</th>\n",
       "      <td>1188</td>\n",
       "      <td>Julie</td>\n",
       "      <td>Firrelli</td>\n",
       "      <td>6</td>\n",
       "    </tr>\n",
       "    <tr>\n",
       "      <th>3</th>\n",
       "      <td>1216</td>\n",
       "      <td>Steve</td>\n",
       "      <td>Patterson</td>\n",
       "      <td>6</td>\n",
       "    </tr>\n",
       "    <tr>\n",
       "      <th>4</th>\n",
       "      <td>1286</td>\n",
       "      <td>Foon Yue</td>\n",
       "      <td>Tseng</td>\n",
       "      <td>7</td>\n",
       "    </tr>\n",
       "    <tr>\n",
       "      <th>5</th>\n",
       "      <td>1323</td>\n",
       "      <td>George</td>\n",
       "      <td>Vanauf</td>\n",
       "      <td>8</td>\n",
       "    </tr>\n",
       "    <tr>\n",
       "      <th>6</th>\n",
       "      <td>1337</td>\n",
       "      <td>Loui</td>\n",
       "      <td>Bondur</td>\n",
       "      <td>6</td>\n",
       "    </tr>\n",
       "    <tr>\n",
       "      <th>7</th>\n",
       "      <td>1370</td>\n",
       "      <td>Gerard</td>\n",
       "      <td>Hernandez</td>\n",
       "      <td>7</td>\n",
       "    </tr>\n",
       "    <tr>\n",
       "      <th>8</th>\n",
       "      <td>1401</td>\n",
       "      <td>Pamela</td>\n",
       "      <td>Castillo</td>\n",
       "      <td>10</td>\n",
       "    </tr>\n",
       "    <tr>\n",
       "      <th>9</th>\n",
       "      <td>1501</td>\n",
       "      <td>Larry</td>\n",
       "      <td>Bott</td>\n",
       "      <td>8</td>\n",
       "    </tr>\n",
       "    <tr>\n",
       "      <th>10</th>\n",
       "      <td>1504</td>\n",
       "      <td>Barry</td>\n",
       "      <td>Jones</td>\n",
       "      <td>9</td>\n",
       "    </tr>\n",
       "    <tr>\n",
       "      <th>11</th>\n",
       "      <td>1611</td>\n",
       "      <td>Andy</td>\n",
       "      <td>Fixter</td>\n",
       "      <td>5</td>\n",
       "    </tr>\n",
       "    <tr>\n",
       "      <th>12</th>\n",
       "      <td>1612</td>\n",
       "      <td>Peter</td>\n",
       "      <td>Marsh</td>\n",
       "      <td>5</td>\n",
       "    </tr>\n",
       "    <tr>\n",
       "      <th>13</th>\n",
       "      <td>1621</td>\n",
       "      <td>Mami</td>\n",
       "      <td>Nishi</td>\n",
       "      <td>5</td>\n",
       "    </tr>\n",
       "    <tr>\n",
       "      <th>14</th>\n",
       "      <td>1702</td>\n",
       "      <td>Martin</td>\n",
       "      <td>Gerard</td>\n",
       "      <td>6</td>\n",
       "    </tr>\n",
       "  </tbody>\n",
       "</table>\n",
       "</div>"
      ],
      "text/plain": [
       "    employeeNumber firstName   lastName  \\\n",
       "0             1165    Leslie   Jennings   \n",
       "1             1166    Leslie   Thompson   \n",
       "2             1188     Julie   Firrelli   \n",
       "3             1216     Steve  Patterson   \n",
       "4             1286  Foon Yue      Tseng   \n",
       "5             1323    George     Vanauf   \n",
       "6             1337      Loui     Bondur   \n",
       "7             1370    Gerard  Hernandez   \n",
       "8             1401    Pamela   Castillo   \n",
       "9             1501     Larry       Bott   \n",
       "10            1504     Barry      Jones   \n",
       "11            1611      Andy     Fixter   \n",
       "12            1612     Peter      Marsh   \n",
       "13            1621      Mami      Nishi   \n",
       "14            1702    Martin     Gerard   \n",
       "\n",
       "    COUNT(DISTINCT customers.customerNumber)  \n",
       "0                                          6  \n",
       "1                                          6  \n",
       "2                                          6  \n",
       "3                                          6  \n",
       "4                                          7  \n",
       "5                                          8  \n",
       "6                                          6  \n",
       "7                                          7  \n",
       "8                                         10  \n",
       "9                                          8  \n",
       "10                                         9  \n",
       "11                                         5  \n",
       "12                                         5  \n",
       "13                                         5  \n",
       "14                                         6  "
      ]
     },
     "execution_count": 36,
     "metadata": {},
     "output_type": "execute_result"
    }
   ],
   "source": [
    "# Your code here\n",
    "\n",
    "q = (\"\"\"\n",
    "SELECT DISTINCT\n",
    "    employees.employeeNumber,\n",
    "    employees.firstName,\n",
    "    employees.lastName,\n",
    "    COUNT(DISTINCT customers.customerNumber)\n",
    "FROM employees\n",
    "JOIN customers\n",
    "    ON employees.employeeNumber = customers.salesRepEmployeeNumber\n",
    "WHERE employees.employeeNumber IN (\n",
    "    SELECT salesRepEmployeeNumber\n",
    "    FROM customers\n",
    "    GROUP BY salesRepEmployeeNumber\n",
    "    HAVING AVG(creditLimit) > 15000\n",
    ")\n",
    "GROUP BY employees.employeeNumber\n",
    "\"\"\")\n",
    "pd.read_sql(q, conn)\n"
   ]
  },
  {
   "cell_type": "markdown",
   "metadata": {},
   "source": [
    "## Summary\n",
    "\n",
    "In this lesson, you got to practice some more complex SQL queries, some of which required subqueries. There's still plenty more SQL to be had though; hope you've been enjoying some of these puzzles!"
   ]
  }
 ],
 "metadata": {
  "kernelspec": {
   "display_name": "Python (learn-env)",
   "language": "python",
   "name": "learn-env"
  },
  "language_info": {
   "codemirror_mode": {
    "name": "ipython",
    "version": 3
   },
   "file_extension": ".py",
   "mimetype": "text/x-python",
   "name": "python",
   "nbconvert_exporter": "python",
   "pygments_lexer": "ipython3",
   "version": "3.9.19"
  },
  "toc": {
   "base_numbering": 1,
   "nav_menu": {},
   "number_sections": true,
   "sideBar": true,
   "skip_h1_title": false,
   "title_cell": "Table of Contents",
   "title_sidebar": "Contents",
   "toc_cell": false,
   "toc_position": {},
   "toc_section_display": true,
   "toc_window_display": false
  }
 },
 "nbformat": 4,
 "nbformat_minor": 2
}
